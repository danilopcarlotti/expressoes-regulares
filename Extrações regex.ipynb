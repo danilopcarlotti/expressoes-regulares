{
 "cells": [
  {
   "cell_type": "code",
   "execution_count": 2,
   "metadata": {},
   "outputs": [],
   "source": [
    "import pandas as pd\n",
    "import re\n",
    "import matplotlib.pyplot as plt\n",
    "from collections import Counter"
   ]
  },
  {
   "cell_type": "markdown",
   "metadata": {},
   "source": [
    "## Variáveis"
   ]
  },
  {
   "cell_type": "code",
   "execution_count": 33,
   "metadata": {},
   "outputs": [],
   "source": [
    "# Arquivo excel com duas colunas: \"var\" (com o nome das variáveis a serem extraídas) e \"regex\" (com a expressão regular)\n",
    "PATH_EXCEL_REGEX = 'regex_pesquisas.xlsx'\n",
    "# Arquivo excel contendo duas colunas: \"texto_publicacao\" (com os textos a serem analisados) e \"numero_processo\" (com um identificador para os textos)\n",
    "PATH_EXCEL_DADOS = 'fonte_dados.xlsx'\n",
    "# Arquivo gerado de relatório\n",
    "PATH_RELATORIO = 'resultado_extração.xlsx'"
   ]
  },
  {
   "cell_type": "markdown",
   "metadata": {},
   "source": [
    "## Funções"
   ]
  },
  {
   "cell_type": "code",
   "execution_count": 37,
   "metadata": {},
   "outputs": [],
   "source": [
    "def extracao_booleana(PATH_EXCEL_D, PATH_EXCEL_R):\n",
    "    dic_regex = {}\n",
    "    df_regex = pd.read_excel(PATH_EXCEL_R)\n",
    "    df_dados = pd.read_excel(PATH_EXCEL_D)\n",
    "    for _, row in df_regex.iterrows():\n",
    "        dic_regex[row['var']] = r'{}'.format(row['regex'])\n",
    "    rows_result = []\n",
    "    for _, row in df_dados.iterrows():\n",
    "        dic_aux = {k:0 for k in dic_regex}\n",
    "        for v,reg in dic_regex.items():\n",
    "            if re.search(reg,row['texto_publicacao'],re.I):\n",
    "                dic_aux[v] = 1\n",
    "        rows_result.append(dic_aux)\n",
    "    df_res = pd.DataFrame(rows_result)\n",
    "    df_res.to_excel('resultado_extração.xlsx',index=False)"
   ]
  },
  {
   "cell_type": "code",
   "execution_count": 40,
   "metadata": {},
   "outputs": [],
   "source": [
    "def graficos_pizza(PATH_EXCEL_RES):\n",
    "    df = pd.read_excel(PATH_EXCEL_RES)\n",
    "    colunas_desconsiderar = ['numero_processo']\n",
    "    for c in df.columns:\n",
    "        if c not in colunas_desconsiderar:\n",
    "            dic_valores = Counter(df[c].tolist())\n",
    "            labels = list(dic_valores.keys())\n",
    "            values = list(dic_valores.values())\n",
    "            plt.pie(values,labels=labels,explode=[0.1 for i in range(len(values))])\n",
    "            plt.savefig('variavel_{}.png'.format(c))\n",
    "            plt.clf()"
   ]
  },
  {
   "cell_type": "code",
   "execution_count": 41,
   "metadata": {},
   "outputs": [],
   "source": [
    "def relatorio_geral(PATH_EXCEL_RES):\n",
    "    df = pd.read_excel(PATH_EXCEL_RES)\n",
    "    colunas_desconsiderar = ['numero_processo']\n",
    "    dic_var_listas = {}\n",
    "    arq_relatorio = open('relatório_geral.txt','w')\n",
    "    for c in df.columns:\n",
    "        if c not in colunas_desconsiderar:\n",
    "            dic = Counter(df[c].tolist())\n",
    "            dic_var_listas[c] = dic\n",
    "            arq_relatorio.write('\\n\\nRelatório sobre variável: {}\\n'.format(c))\n",
    "            for i in [0,1]:\n",
    "                if i in dic:\n",
    "                    arq_relatorio.write('Número de {}: {}\\n'.format(i,dic[i]))\n",
    "    arq_relatorio.close()"
   ]
  },
  {
   "cell_type": "markdown",
   "metadata": {},
   "source": [
    "## Chamada das funções"
   ]
  },
  {
   "cell_type": "code",
   "execution_count": 38,
   "metadata": {},
   "outputs": [],
   "source": [
    "extracao_booleana(PATH_EXCEL_DADOS, PATH_EXCEL_REGEX)"
   ]
  },
  {
   "cell_type": "code",
   "execution_count": 42,
   "metadata": {},
   "outputs": [
    {
     "data": {
      "text/plain": [
       "<Figure size 432x288 with 0 Axes>"
      ]
     },
     "metadata": {},
     "output_type": "display_data"
    }
   ],
   "source": [
    "graficos_pizza(PATH_EXCEL_RESULTADO)"
   ]
  },
  {
   "cell_type": "code",
   "execution_count": 43,
   "metadata": {},
   "outputs": [],
   "source": [
    "relatorio_geral(PATH_EXCEL_RESULTADO)"
   ]
  }
 ],
 "metadata": {
  "kernelspec": {
   "display_name": "Python 3",
   "language": "python",
   "name": "python3"
  },
  "language_info": {
   "codemirror_mode": {
    "name": "ipython",
    "version": 3
   },
   "file_extension": ".py",
   "mimetype": "text/x-python",
   "name": "python",
   "nbconvert_exporter": "python",
   "pygments_lexer": "ipython3",
   "version": "3.6.9"
  }
 },
 "nbformat": 4,
 "nbformat_minor": 2
}